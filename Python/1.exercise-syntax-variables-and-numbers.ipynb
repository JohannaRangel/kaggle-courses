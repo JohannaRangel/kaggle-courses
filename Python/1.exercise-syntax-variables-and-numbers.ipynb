{
 "cells": [
  {
   "cell_type": "markdown",
   "id": "e5890b73",
   "metadata": {
    "papermill": {
     "duration": 0.011693,
     "end_time": "2023-09-10T20:35:42.709731",
     "exception": false,
     "start_time": "2023-09-10T20:35:42.698038",
     "status": "completed"
    },
    "tags": []
   },
   "source": [
    "**This notebook is an exercise in the [Python](https://www.kaggle.com/learn/python) course.  You can reference the tutorial at [this link](https://www.kaggle.com/colinmorris/hello-python).**\n",
    "\n",
    "---\n"
   ]
  },
  {
   "cell_type": "markdown",
   "id": "d2a39f0d",
   "metadata": {
    "papermill": {
     "duration": 0.01081,
     "end_time": "2023-09-10T20:35:42.731760",
     "exception": false,
     "start_time": "2023-09-10T20:35:42.720950",
     "status": "completed"
    },
    "tags": []
   },
   "source": [
    "Welcome to your first set of Python coding problems.  If this is your first time using Kaggle Notebooks, welcome! \n",
    "\n",
    "Notebooks are composed of blocks (called \"cells\") of text and code. Each of these is editable, though you'll mainly be editing the code cells to answer some questions.\n",
    "\n",
    "To get started, try running the code cell below (by pressing the ► button, or clicking on the cell and pressing ctrl+enter on your keyboard)."
   ]
  },
  {
   "cell_type": "code",
   "execution_count": 1,
   "id": "0e8bcdd9",
   "metadata": {
    "execution": {
     "iopub.execute_input": "2023-09-10T20:35:42.756190Z",
     "iopub.status.busy": "2023-09-10T20:35:42.755457Z",
     "iopub.status.idle": "2023-09-10T20:35:42.768428Z",
     "shell.execute_reply": "2023-09-10T20:35:42.767259Z"
    },
    "papermill": {
     "duration": 0.028221,
     "end_time": "2023-09-10T20:35:42.770949",
     "exception": false,
     "start_time": "2023-09-10T20:35:42.742728",
     "status": "completed"
    },
    "tags": []
   },
   "outputs": [
    {
     "name": "stdout",
     "output_type": "stream",
     "text": [
      "You've successfully run some Python code\n",
      "Congratulations!\n",
      "Let´s go\n"
     ]
    }
   ],
   "source": [
    "print(\"You've successfully run some Python code\")\n",
    "print(\"Congratulations!\")\n",
    "print(\"Let´s go\")"
   ]
  },
  {
   "cell_type": "code",
   "execution_count": null,
   "id": "baa835fe",
   "metadata": {
    "papermill": {
     "duration": 0.011636,
     "end_time": "2023-09-10T20:35:42.793835",
     "exception": false,
     "start_time": "2023-09-10T20:35:42.782199",
     "status": "completed"
    },
    "tags": []
   },
   "outputs": [],
   "source": []
  },
  {
   "cell_type": "markdown",
   "id": "dc9a53c7",
   "metadata": {
    "papermill": {
     "duration": 0.011015,
     "end_time": "2023-09-10T20:35:42.816125",
     "exception": false,
     "start_time": "2023-09-10T20:35:42.805110",
     "status": "completed"
    },
    "tags": []
   },
   "source": [
    "Try adding another line of code in the cell above and re-running it. \n",
    "\n",
    "Now let's get a little fancier:  Add a new code cell by clicking on an existing code cell, hitting the escape key, and then hitting the `a` or `b` key.  The `a` key will add a cell above the current cell, and `b` adds a cell below.\n",
    "\n",
    "Great! Now you know how to use Notebooks.\n",
    "\n",
    "Each hands-on exercise starts by setting up our feedback and code checking mechanism. Run the code cell below to do that. Then you'll be ready to move on to question 0."
   ]
  },
  {
   "cell_type": "code",
   "execution_count": 2,
   "id": "48414370",
   "metadata": {
    "_kg_hide-input": true,
    "_kg_hide-output": true,
    "execution": {
     "iopub.execute_input": "2023-09-10T20:35:42.842101Z",
     "iopub.status.busy": "2023-09-10T20:35:42.840991Z",
     "iopub.status.idle": "2023-09-10T20:35:43.302779Z",
     "shell.execute_reply": "2023-09-10T20:35:43.301855Z"
    },
    "papermill": {
     "duration": 0.477752,
     "end_time": "2023-09-10T20:35:43.305037",
     "exception": false,
     "start_time": "2023-09-10T20:35:42.827285",
     "status": "completed"
    },
    "tags": []
   },
   "outputs": [
    {
     "name": "stdout",
     "output_type": "stream",
     "text": [
      "Setup complete! You're ready to start question 0.\n"
     ]
    }
   ],
   "source": [
    "from learntools.core import binder; binder.bind(globals())\n",
    "from learntools.python.ex1 import *\n",
    "print(\"Setup complete! You're ready to start question 0.\")"
   ]
  },
  {
   "cell_type": "markdown",
   "id": "3a0d69d3",
   "metadata": {
    "papermill": {
     "duration": 0.010917,
     "end_time": "2023-09-10T20:35:43.327110",
     "exception": false,
     "start_time": "2023-09-10T20:35:43.316193",
     "status": "completed"
    },
    "tags": []
   },
   "source": [
    "# 0.\n",
    "\n",
    "*This is a silly question intended as an introduction to the format we use for hands-on exercises throughout all Kaggle courses.*\n",
    "\n",
    "**What is your favorite color? **\n",
    "\n",
    "To complete this question, create a variable called `color` in the cell below with an appropriate value. The function call `q0.check()` (which we've already provided in the cell below) will check your answer."
   ]
  },
  {
   "cell_type": "code",
   "execution_count": 3,
   "id": "477b2abf",
   "metadata": {
    "execution": {
     "iopub.execute_input": "2023-09-10T20:35:43.351731Z",
     "iopub.status.busy": "2023-09-10T20:35:43.350929Z",
     "iopub.status.idle": "2023-09-10T20:35:43.361801Z",
     "shell.execute_reply": "2023-09-10T20:35:43.360591Z"
    },
    "papermill": {
     "duration": 0.02599,
     "end_time": "2023-09-10T20:35:43.364249",
     "exception": false,
     "start_time": "2023-09-10T20:35:43.338259",
     "status": "completed"
    },
    "tags": []
   },
   "outputs": [
    {
     "data": {
      "application/javascript": [
       "parent.postMessage({\"jupyterEvent\": \"custom.exercise_interaction\", \"data\": {\"outcomeType\": 1, \"valueTowardsCompletion\": 0.25, \"interactionType\": 1, \"questionType\": 2, \"questionId\": \"0_ExerciseFormatTutorial\", \"learnToolsVersion\": \"0.3.4\", \"failureMessage\": \"\", \"exceptionClass\": \"\", \"trace\": \"\"}}, \"*\")"
      ],
      "text/plain": [
       "<IPython.core.display.Javascript object>"
      ]
     },
     "metadata": {},
     "output_type": "display_data"
    },
    {
     "data": {
      "text/markdown": [
       "<span style=\"color:#33cc33\">Correct:</span> What?! You got it right without needing a hint or anything? Drats. Well hey, you should still continue to the next step to get some practice asking for a hint and checking solutions. (Even though you obviously don't need any help here.)"
      ],
      "text/plain": [
       "Correct: What?! You got it right without needing a hint or anything? Drats. Well hey, you should still continue to the next step to get some practice asking for a hint and checking solutions. (Even though you obviously don't need any help here.)"
      ]
     },
     "metadata": {},
     "output_type": "display_data"
    }
   ],
   "source": [
    "# create a variable called color with an appropriate value on the line below\n",
    "# (Remember, strings in Python must be enclosed in 'single' or \"double\" quotes)\n",
    "____\n",
    "color = \"blue\"\n",
    "# Check your answer\n",
    "q0.check()"
   ]
  },
  {
   "cell_type": "markdown",
   "id": "75248eea",
   "metadata": {
    "papermill": {
     "duration": 0.011303,
     "end_time": "2023-09-10T20:35:43.387125",
     "exception": false,
     "start_time": "2023-09-10T20:35:43.375822",
     "status": "completed"
    },
    "tags": []
   },
   "source": [
    "Didn't get the right answer? How do you not even know your own favorite color?!\n",
    "\n",
    "Delete the `#` in the line below to make one of the lines run. You can choose between getting a hint or the full answer by choosing which line to remove the `#` from. \n",
    "\n",
    "Removing the `#` is called uncommenting, because it changes that line from a \"comment\" which Python doesn't run to code, which Python does run."
   ]
  },
  {
   "cell_type": "code",
   "execution_count": 4,
   "id": "60c209b0",
   "metadata": {
    "execution": {
     "iopub.execute_input": "2023-09-10T20:35:43.412815Z",
     "iopub.status.busy": "2023-09-10T20:35:43.412390Z",
     "iopub.status.idle": "2023-09-10T20:35:43.417547Z",
     "shell.execute_reply": "2023-09-10T20:35:43.416446Z"
    },
    "papermill": {
     "duration": 0.020879,
     "end_time": "2023-09-10T20:35:43.419912",
     "exception": false,
     "start_time": "2023-09-10T20:35:43.399033",
     "status": "completed"
    },
    "tags": []
   },
   "outputs": [],
   "source": [
    "#q0.hint()\n",
    "#q0.solution()"
   ]
  },
  {
   "cell_type": "markdown",
   "id": "af3c8090",
   "metadata": {
    "papermill": {
     "duration": 0.01127,
     "end_time": "2023-09-10T20:35:43.443141",
     "exception": false,
     "start_time": "2023-09-10T20:35:43.431871",
     "status": "completed"
    },
    "tags": []
   },
   "source": [
    "The upcoming questions work the same way. The only thing that will change are the question numbers. For the next question, you'll call `q1.check()`, `q1.hint()`, `q1.solution()`, for question 2, you'll call `q2.check()`, and so on."
   ]
  },
  {
   "cell_type": "markdown",
   "id": "2a654bac",
   "metadata": {
    "papermill": {
     "duration": 0.011391,
     "end_time": "2023-09-10T20:35:43.466062",
     "exception": false,
     "start_time": "2023-09-10T20:35:43.454671",
     "status": "completed"
    },
    "tags": []
   },
   "source": [
    "<hr/>\n",
    "\n",
    "# 1.\n",
    "\n",
    "Complete the code below. In case it's helpful, here is the table of available arithmetic operations:\n",
    "\n",
    "\n",
    "\n",
    "| Operator     | Name           | Description                                            |\n",
    "|--------------|----------------|--------------------------------------------------------|\n",
    "| ``a + b``    | Addition       | Sum of ``a`` and ``b``                                 |\n",
    "| ``a - b``    | Subtraction    | Difference of ``a`` and ``b``                          |\n",
    "| ``a * b``    | Multiplication | Product of ``a`` and ``b``                             |\n",
    "| ``a / b``    | True division  | Quotient of ``a`` and ``b``                            |\n",
    "| ``a // b``   | Floor division | Quotient of ``a`` and ``b``, removing fractional parts |\n",
    "| ``a % b``    | Modulus        | Integer remainder after division of ``a`` by ``b``     |\n",
    "| ``a ** b``   | Exponentiation | ``a`` raised to the power of ``b``                     |\n",
    "| ``-a``       | Negation       | The negative of ``a``                                  |\n",
    "\n",
    "<span style=\"display:none\"></span>\n"
   ]
  },
  {
   "cell_type": "code",
   "execution_count": 5,
   "id": "d1e1678f",
   "metadata": {
    "execution": {
     "iopub.execute_input": "2023-09-10T20:35:43.491690Z",
     "iopub.status.busy": "2023-09-10T20:35:43.490873Z",
     "iopub.status.idle": "2023-09-10T20:35:43.501054Z",
     "shell.execute_reply": "2023-09-10T20:35:43.499863Z"
    },
    "papermill": {
     "duration": 0.025421,
     "end_time": "2023-09-10T20:35:43.503330",
     "exception": false,
     "start_time": "2023-09-10T20:35:43.477909",
     "status": "completed"
    },
    "tags": []
   },
   "outputs": [
    {
     "data": {
      "application/javascript": [
       "parent.postMessage({\"jupyterEvent\": \"custom.exercise_interaction\", \"data\": {\"outcomeType\": 1, \"valueTowardsCompletion\": 0.25, \"interactionType\": 1, \"questionType\": 1, \"questionId\": \"1_CircleArea\", \"learnToolsVersion\": \"0.3.4\", \"failureMessage\": \"\", \"exceptionClass\": \"\", \"trace\": \"\"}}, \"*\")"
      ],
      "text/plain": [
       "<IPython.core.display.Javascript object>"
      ]
     },
     "metadata": {},
     "output_type": "display_data"
    },
    {
     "data": {
      "text/markdown": [
       "<span style=\"color:#33cc33\">Correct</span>"
      ],
      "text/plain": [
       "Correct"
      ]
     },
     "metadata": {},
     "output_type": "display_data"
    }
   ],
   "source": [
    "pi = 3.14159 # approximate\n",
    "diameter = 3\n",
    "\n",
    "# Create a variable called 'radius' equal to half the diameter\n",
    "radius = diameter / 2\n",
    "____\n",
    "\n",
    "# Create a variable called 'area', using the formula for the area of a circle: pi times the radius squared\n",
    "____\n",
    "area = (pi * (radius ** 2))\n",
    "\n",
    "# Check your answer\n",
    "q1.check()"
   ]
  },
  {
   "cell_type": "code",
   "execution_count": 6,
   "id": "3d35db0f",
   "metadata": {
    "execution": {
     "iopub.execute_input": "2023-09-10T20:35:43.529781Z",
     "iopub.status.busy": "2023-09-10T20:35:43.529367Z",
     "iopub.status.idle": "2023-09-10T20:35:43.533888Z",
     "shell.execute_reply": "2023-09-10T20:35:43.532869Z"
    },
    "papermill": {
     "duration": 0.020437,
     "end_time": "2023-09-10T20:35:43.536168",
     "exception": false,
     "start_time": "2023-09-10T20:35:43.515731",
     "status": "completed"
    },
    "tags": []
   },
   "outputs": [],
   "source": [
    "# Uncomment and run the lines below if you need help.\n",
    "#q1.hint()\n",
    "#q1.solution()"
   ]
  },
  {
   "cell_type": "markdown",
   "id": "fa82fa65",
   "metadata": {
    "papermill": {
     "duration": 0.011795,
     "end_time": "2023-09-10T20:35:43.559939",
     "exception": false,
     "start_time": "2023-09-10T20:35:43.548144",
     "status": "completed"
    },
    "tags": []
   },
   "source": [
    "<hr/>\n",
    "\n",
    "# 2.\n",
    "\n",
    "Add code to the following cell to swap variables `a` and `b` (so that `a` refers to the object previously referred to by `b` and vice versa)."
   ]
  },
  {
   "cell_type": "code",
   "execution_count": 7,
   "id": "04b13666",
   "metadata": {
    "execution": {
     "iopub.execute_input": "2023-09-10T20:35:43.586108Z",
     "iopub.status.busy": "2023-09-10T20:35:43.585451Z",
     "iopub.status.idle": "2023-09-10T20:35:43.595415Z",
     "shell.execute_reply": "2023-09-10T20:35:43.594694Z"
    },
    "papermill": {
     "duration": 0.02698,
     "end_time": "2023-09-10T20:35:43.598896",
     "exception": false,
     "start_time": "2023-09-10T20:35:43.571916",
     "status": "completed"
    },
    "tags": []
   },
   "outputs": [
    {
     "name": "stdout",
     "output_type": "stream",
     "text": [
      "[3, 2, 1]\n",
      "[1, 2, 3]\n"
     ]
    },
    {
     "data": {
      "application/javascript": [
       "parent.postMessage({\"jupyterEvent\": \"custom.exercise_interaction\", \"data\": {\"outcomeType\": 1, \"valueTowardsCompletion\": 0.25, \"interactionType\": 1, \"questionType\": 2, \"questionId\": \"2_VariableSwap\", \"learnToolsVersion\": \"0.3.4\", \"failureMessage\": \"\", \"exceptionClass\": \"\", \"trace\": \"\"}}, \"*\")"
      ],
      "text/plain": [
       "<IPython.core.display.Javascript object>"
      ]
     },
     "metadata": {},
     "output_type": "display_data"
    },
    {
     "data": {
      "text/markdown": [
       "<span style=\"color:#33cc33\">Correct:</span> \n",
       "\n",
       "The most straightforward solution is to use a third variable to temporarily store one of the old values. e.g.:\n",
       "\n",
       "    tmp = a\n",
       "    a = b\n",
       "    b = tmp\n",
       "\n",
       "If you've read lots of Python code, you might have seen the following trick to swap two variables in one line:\n",
       "\n",
       "    a, b = b, a\n",
       "\n",
       "We'll demystify this bit of Python magic later when we talk about *tuples*."
      ],
      "text/plain": [
       "Correct: \n",
       "\n",
       "The most straightforward solution is to use a third variable to temporarily store one of the old values. e.g.:\n",
       "\n",
       "    tmp = a\n",
       "    a = b\n",
       "    b = tmp\n",
       "\n",
       "If you've read lots of Python code, you might have seen the following trick to swap two variables in one line:\n",
       "\n",
       "    a, b = b, a\n",
       "\n",
       "We'll demystify this bit of Python magic later when we talk about *tuples*."
      ]
     },
     "metadata": {},
     "output_type": "display_data"
    }
   ],
   "source": [
    "########### Setup code - don't touch this part ######################\n",
    "# If you're curious, these are examples of lists. We'll talk about \n",
    "# them in depth a few lessons from now. For now, just know that they're\n",
    "# yet another type of Python object, like int or float.\n",
    "a = [1, 2, 3]\n",
    "b = [3, 2, 1]\n",
    "q2.store_original_ids()\n",
    "######################################################################\n",
    "\n",
    "# Your code goes here. Swap the values to which a and b refer.\n",
    "# If you get stuck, you can always uncomment one or both of the lines in\n",
    "# the next cell for a hint, or to peek at the solution.\n",
    "c = a\n",
    "a = b\n",
    "b = c\n",
    "print(a)\n",
    "print(b)\n",
    "######################################################################\n",
    "\n",
    "# Check your answer\n",
    "q2.check()"
   ]
  },
  {
   "cell_type": "code",
   "execution_count": 8,
   "id": "738686cd",
   "metadata": {
    "execution": {
     "iopub.execute_input": "2023-09-10T20:35:43.625803Z",
     "iopub.status.busy": "2023-09-10T20:35:43.625413Z",
     "iopub.status.idle": "2023-09-10T20:35:43.629125Z",
     "shell.execute_reply": "2023-09-10T20:35:43.628275Z"
    },
    "papermill": {
     "duration": 0.019732,
     "end_time": "2023-09-10T20:35:43.631194",
     "exception": false,
     "start_time": "2023-09-10T20:35:43.611462",
     "status": "completed"
    },
    "tags": []
   },
   "outputs": [],
   "source": [
    "#q2.hint()"
   ]
  },
  {
   "cell_type": "code",
   "execution_count": 9,
   "id": "33f8774a",
   "metadata": {
    "execution": {
     "iopub.execute_input": "2023-09-10T20:35:43.658269Z",
     "iopub.status.busy": "2023-09-10T20:35:43.657650Z",
     "iopub.status.idle": "2023-09-10T20:35:43.664629Z",
     "shell.execute_reply": "2023-09-10T20:35:43.662950Z"
    },
    "papermill": {
     "duration": 0.023926,
     "end_time": "2023-09-10T20:35:43.667536",
     "exception": false,
     "start_time": "2023-09-10T20:35:43.643610",
     "status": "completed"
    },
    "tags": []
   },
   "outputs": [],
   "source": [
    "#q2.solution()"
   ]
  },
  {
   "cell_type": "markdown",
   "id": "0ecc3684",
   "metadata": {
    "papermill": {
     "duration": 0.012112,
     "end_time": "2023-09-10T20:35:43.692248",
     "exception": false,
     "start_time": "2023-09-10T20:35:43.680136",
     "status": "completed"
    },
    "tags": []
   },
   "source": [
    "<hr/>\n",
    "\n",
    "# 3a.\n",
    "\n",
    "Add parentheses to the following expression so that it evaluates to 1."
   ]
  },
  {
   "cell_type": "code",
   "execution_count": 10,
   "id": "29b14744",
   "metadata": {
    "execution": {
     "iopub.execute_input": "2023-09-10T20:35:43.718826Z",
     "iopub.status.busy": "2023-09-10T20:35:43.718394Z",
     "iopub.status.idle": "2023-09-10T20:35:43.724688Z",
     "shell.execute_reply": "2023-09-10T20:35:43.723824Z"
    },
    "papermill": {
     "duration": 0.022441,
     "end_time": "2023-09-10T20:35:43.727215",
     "exception": false,
     "start_time": "2023-09-10T20:35:43.704774",
     "status": "completed"
    },
    "tags": []
   },
   "outputs": [
    {
     "data": {
      "text/plain": [
       "1"
      ]
     },
     "execution_count": 10,
     "metadata": {},
     "output_type": "execute_result"
    }
   ],
   "source": [
    "(5 - 3) // 2"
   ]
  },
  {
   "cell_type": "code",
   "execution_count": 11,
   "id": "c31bd5ba",
   "metadata": {
    "execution": {
     "iopub.execute_input": "2023-09-10T20:35:43.755607Z",
     "iopub.status.busy": "2023-09-10T20:35:43.755213Z",
     "iopub.status.idle": "2023-09-10T20:35:43.759982Z",
     "shell.execute_reply": "2023-09-10T20:35:43.758953Z"
    },
    "papermill": {
     "duration": 0.022495,
     "end_time": "2023-09-10T20:35:43.762250",
     "exception": false,
     "start_time": "2023-09-10T20:35:43.739755",
     "status": "completed"
    },
    "tags": []
   },
   "outputs": [],
   "source": [
    "#q3.a.hint()"
   ]
  },
  {
   "cell_type": "code",
   "execution_count": 12,
   "id": "612240fe",
   "metadata": {
    "execution": {
     "iopub.execute_input": "2023-09-10T20:35:43.788861Z",
     "iopub.status.busy": "2023-09-10T20:35:43.788445Z",
     "iopub.status.idle": "2023-09-10T20:35:43.793275Z",
     "shell.execute_reply": "2023-09-10T20:35:43.792059Z"
    },
    "papermill": {
     "duration": 0.021026,
     "end_time": "2023-09-10T20:35:43.795766",
     "exception": false,
     "start_time": "2023-09-10T20:35:43.774740",
     "status": "completed"
    },
    "tags": []
   },
   "outputs": [],
   "source": [
    "# Check your answer (Run this code cell to receive credit!)\n",
    "#q3.a.solution()"
   ]
  },
  {
   "cell_type": "markdown",
   "id": "4612432b",
   "metadata": {
    "papermill": {
     "duration": 0.012266,
     "end_time": "2023-09-10T20:35:43.820890",
     "exception": false,
     "start_time": "2023-09-10T20:35:43.808624",
     "status": "completed"
    },
    "tags": []
   },
   "source": [
    "# 3b.  <span title=\"A bit spicy\" style=\"color: darkgreen \">🌶️</span>\n",
    "\n",
    "<small>Questions, like this one, marked a spicy pepper are a bit harder.</small>\n",
    "\n",
    "Add parentheses to the following expression so that it evaluates to 0."
   ]
  },
  {
   "cell_type": "code",
   "execution_count": 13,
   "id": "00b8c517",
   "metadata": {
    "execution": {
     "iopub.execute_input": "2023-09-10T20:35:43.848480Z",
     "iopub.status.busy": "2023-09-10T20:35:43.848094Z",
     "iopub.status.idle": "2023-09-10T20:35:43.854705Z",
     "shell.execute_reply": "2023-09-10T20:35:43.853884Z"
    },
    "papermill": {
     "duration": 0.02316,
     "end_time": "2023-09-10T20:35:43.856922",
     "exception": false,
     "start_time": "2023-09-10T20:35:43.833762",
     "status": "completed"
    },
    "tags": []
   },
   "outputs": [
    {
     "data": {
      "text/plain": [
       "0"
      ]
     },
     "execution_count": 13,
     "metadata": {},
     "output_type": "execute_result"
    }
   ],
   "source": [
    "(8 - 3) * (2 - (1 + 1))"
   ]
  },
  {
   "cell_type": "code",
   "execution_count": 14,
   "id": "c2148a07",
   "metadata": {
    "execution": {
     "iopub.execute_input": "2023-09-10T20:35:43.884280Z",
     "iopub.status.busy": "2023-09-10T20:35:43.883915Z",
     "iopub.status.idle": "2023-09-10T20:35:43.888013Z",
     "shell.execute_reply": "2023-09-10T20:35:43.886896Z"
    },
    "papermill": {
     "duration": 0.020541,
     "end_time": "2023-09-10T20:35:43.890366",
     "exception": false,
     "start_time": "2023-09-10T20:35:43.869825",
     "status": "completed"
    },
    "tags": []
   },
   "outputs": [],
   "source": [
    "#q3.b.hint()"
   ]
  },
  {
   "cell_type": "code",
   "execution_count": 15,
   "id": "e5217541",
   "metadata": {
    "execution": {
     "iopub.execute_input": "2023-09-10T20:35:43.919129Z",
     "iopub.status.busy": "2023-09-10T20:35:43.918142Z",
     "iopub.status.idle": "2023-09-10T20:35:43.922841Z",
     "shell.execute_reply": "2023-09-10T20:35:43.921928Z"
    },
    "papermill": {
     "duration": 0.021999,
     "end_time": "2023-09-10T20:35:43.925278",
     "exception": false,
     "start_time": "2023-09-10T20:35:43.903279",
     "status": "completed"
    },
    "tags": []
   },
   "outputs": [],
   "source": [
    "# Check your answer (Run this code cell to receive credit!)\n",
    "#q3.b.solution()"
   ]
  },
  {
   "cell_type": "markdown",
   "id": "a93325c6",
   "metadata": {
    "papermill": {
     "duration": 0.01269,
     "end_time": "2023-09-10T20:35:43.951123",
     "exception": false,
     "start_time": "2023-09-10T20:35:43.938433",
     "status": "completed"
    },
    "tags": []
   },
   "source": [
    "<hr/>\n",
    "\n",
    "# 4. \n",
    "Alice, Bob and Carol have agreed to pool their Halloween candy and split it evenly among themselves.\n",
    "For the sake of their friendship, any candies left over will be smashed. For example, if they collectively\n",
    "bring home 91 candies, they'll take 30 each and smash 1.\n",
    "\n",
    "Write an arithmetic expression below to calculate how many candies they must smash for a given haul."
   ]
  },
  {
   "cell_type": "code",
   "execution_count": 16,
   "id": "f39f7493",
   "metadata": {
    "execution": {
     "iopub.execute_input": "2023-09-10T20:35:43.979152Z",
     "iopub.status.busy": "2023-09-10T20:35:43.978077Z",
     "iopub.status.idle": "2023-09-10T20:35:43.987778Z",
     "shell.execute_reply": "2023-09-10T20:35:43.986765Z"
    },
    "papermill": {
     "duration": 0.026165,
     "end_time": "2023-09-10T20:35:43.990148",
     "exception": false,
     "start_time": "2023-09-10T20:35:43.963983",
     "status": "completed"
    },
    "tags": []
   },
   "outputs": [
    {
     "data": {
      "application/javascript": [
       "parent.postMessage({\"jupyterEvent\": \"custom.exercise_interaction\", \"data\": {\"outcomeType\": 1, \"valueTowardsCompletion\": 0.25, \"interactionType\": 1, \"questionType\": 1, \"questionId\": \"4_CandySplitting\", \"learnToolsVersion\": \"0.3.4\", \"failureMessage\": \"\", \"exceptionClass\": \"\", \"trace\": \"\"}}, \"*\")"
      ],
      "text/plain": [
       "<IPython.core.display.Javascript object>"
      ]
     },
     "metadata": {},
     "output_type": "display_data"
    },
    {
     "data": {
      "text/markdown": [
       "<span style=\"color:#33cc33\">Correct</span>"
      ],
      "text/plain": [
       "Correct"
      ]
     },
     "metadata": {},
     "output_type": "display_data"
    }
   ],
   "source": [
    "# Variables representing the number of candies collected by alice, bob, and carol\n",
    "alice_candies = 121\n",
    "bob_candies = 77\n",
    "carol_candies = 109\n",
    "\n",
    "# Your code goes here! Replace the right-hand side of this assignment with an expression\n",
    "# involving alice_candies, bob_candies, and carol_candies\n",
    "to_smash = (alice_candies + bob_candies + carol_candies) % 3\n",
    "\n",
    "# Check your answer\n",
    "q4.check()"
   ]
  },
  {
   "cell_type": "code",
   "execution_count": 17,
   "id": "dcf2f838",
   "metadata": {
    "execution": {
     "iopub.execute_input": "2023-09-10T20:35:44.018716Z",
     "iopub.status.busy": "2023-09-10T20:35:44.017638Z",
     "iopub.status.idle": "2023-09-10T20:35:44.022790Z",
     "shell.execute_reply": "2023-09-10T20:35:44.021560Z"
    },
    "papermill": {
     "duration": 0.021823,
     "end_time": "2023-09-10T20:35:44.025077",
     "exception": false,
     "start_time": "2023-09-10T20:35:44.003254",
     "status": "completed"
    },
    "tags": []
   },
   "outputs": [],
   "source": [
    "#q4.hint()\n",
    "#q4.solution()"
   ]
  },
  {
   "cell_type": "markdown",
   "id": "e626ff1c",
   "metadata": {
    "papermill": {
     "duration": 0.012788,
     "end_time": "2023-09-10T20:35:44.050835",
     "exception": false,
     "start_time": "2023-09-10T20:35:44.038047",
     "status": "completed"
    },
    "tags": []
   },
   "source": [
    "# Keep Going\n",
    "\n",
    "Next up, you'll **[learn to write new functions and understand functions others write](https://www.kaggle.com/colinmorris/functions-and-getting-help)**. This will make you at least 10 times more productive as a Python programmer. "
   ]
  },
  {
   "cell_type": "markdown",
   "id": "05032ebf",
   "metadata": {
    "papermill": {
     "duration": 0.012632,
     "end_time": "2023-09-10T20:35:44.076404",
     "exception": false,
     "start_time": "2023-09-10T20:35:44.063772",
     "status": "completed"
    },
    "tags": []
   },
   "source": [
    "---\n",
    "\n",
    "\n",
    "\n",
    "\n",
    "*Have questions or comments? Visit the [course discussion forum](https://www.kaggle.com/learn/python/discussion) to chat with other learners.*"
   ]
  }
 ],
 "kernelspec": {
  "display_name": "Python 3",
  "language": "python",
  "name": "python3"
 },
 "language_info": {
  "codemirror_mode": {
   "name": "ipython",
   "version": 3
  },
  "file_extension": ".py",
  "mimetype": "text/x-python",
  "name": "python",
  "nbconvert_exporter": "python",
  "pygments_lexer": "ipython3",
  "version": "3.6.4"
 },
 "metadata": {
  "kernelspec": {
   "display_name": "Python 3",
   "language": "python",
   "name": "python3"
  },
  "language_info": {
   "codemirror_mode": {
    "name": "ipython",
    "version": 3
   },
   "file_extension": ".py",
   "mimetype": "text/x-python",
   "name": "python",
   "nbconvert_exporter": "python",
   "pygments_lexer": "ipython3",
   "version": "3.10.12"
  },
  "learntools_metadata": {
   "lesson_index": 0,
   "type": "exercise"
  },
  "papermill": {
   "default_parameters": {},
   "duration": 5.631027,
   "end_time": "2023-09-10T20:35:44.611258",
   "environment_variables": {},
   "exception": null,
   "input_path": "__notebook__.ipynb",
   "output_path": "__notebook__.ipynb",
   "parameters": {},
   "start_time": "2023-09-10T20:35:38.980231",
   "version": "2.4.0"
  }
 },
 "nbformat": 4,
 "nbformat_minor": 5
}
