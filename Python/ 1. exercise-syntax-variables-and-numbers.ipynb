{
 "cells": [
  {
   "cell_type": "markdown",
   "id": "8a68266a",
   "metadata": {
    "papermill": {
     "duration": 0.007927,
     "end_time": "2023-09-10T20:23:22.011585",
     "exception": false,
     "start_time": "2023-09-10T20:23:22.003658",
     "status": "completed"
    },
    "tags": []
   },
   "source": [
    "**This notebook is an exercise in the [Python](https://www.kaggle.com/learn/python) course.  You can reference the tutorial at [this link](https://www.kaggle.com/colinmorris/hello-python).**\n",
    "\n",
    "---\n"
   ]
  },
  {
   "cell_type": "markdown",
   "id": "71b6a514",
   "metadata": {
    "papermill": {
     "duration": 0.00675,
     "end_time": "2023-09-10T20:23:22.025952",
     "exception": false,
     "start_time": "2023-09-10T20:23:22.019202",
     "status": "completed"
    },
    "tags": []
   },
   "source": [
    "Welcome to your first set of Python coding problems.  If this is your first time using Kaggle Notebooks, welcome! \n",
    "\n",
    "Notebooks are composed of blocks (called \"cells\") of text and code. Each of these is editable, though you'll mainly be editing the code cells to answer some questions.\n",
    "\n",
    "To get started, try running the code cell below (by pressing the ► button, or clicking on the cell and pressing ctrl+enter on your keyboard)."
   ]
  },
  {
   "cell_type": "code",
   "execution_count": 1,
   "id": "3fbd44f1",
   "metadata": {
    "execution": {
     "iopub.execute_input": "2023-09-10T20:23:22.041975Z",
     "iopub.status.busy": "2023-09-10T20:23:22.041575Z",
     "iopub.status.idle": "2023-09-10T20:23:22.052625Z",
     "shell.execute_reply": "2023-09-10T20:23:22.051033Z"
    },
    "papermill": {
     "duration": 0.022413,
     "end_time": "2023-09-10T20:23:22.055287",
     "exception": false,
     "start_time": "2023-09-10T20:23:22.032874",
     "status": "completed"
    },
    "tags": []
   },
   "outputs": [
    {
     "name": "stdout",
     "output_type": "stream",
     "text": [
      "You've successfully run some Python code\n",
      "Congratulations!\n",
      "Let´s go\n"
     ]
    }
   ],
   "source": [
    "print(\"You've successfully run some Python code\")\n",
    "print(\"Congratulations!\")\n",
    "print(\"Let´s go\")"
   ]
  },
  {
   "cell_type": "code",
   "execution_count": null,
   "id": "9868f16b",
   "metadata": {
    "papermill": {
     "duration": 0.007197,
     "end_time": "2023-09-10T20:23:22.070189",
     "exception": false,
     "start_time": "2023-09-10T20:23:22.062992",
     "status": "completed"
    },
    "tags": []
   },
   "outputs": [],
   "source": []
  },
  {
   "cell_type": "markdown",
   "id": "9c6aa0c7",
   "metadata": {
    "papermill": {
     "duration": 0.006804,
     "end_time": "2023-09-10T20:23:22.084343",
     "exception": false,
     "start_time": "2023-09-10T20:23:22.077539",
     "status": "completed"
    },
    "tags": []
   },
   "source": [
    "Try adding another line of code in the cell above and re-running it. \n",
    "\n",
    "Now let's get a little fancier:  Add a new code cell by clicking on an existing code cell, hitting the escape key, and then hitting the `a` or `b` key.  The `a` key will add a cell above the current cell, and `b` adds a cell below.\n",
    "\n",
    "Great! Now you know how to use Notebooks.\n",
    "\n",
    "Each hands-on exercise starts by setting up our feedback and code checking mechanism. Run the code cell below to do that. Then you'll be ready to move on to question 0."
   ]
  },
  {
   "cell_type": "code",
   "execution_count": 2,
   "id": "0a6c0619",
   "metadata": {
    "_kg_hide-input": true,
    "_kg_hide-output": true,
    "execution": {
     "iopub.execute_input": "2023-09-10T20:23:22.100054Z",
     "iopub.status.busy": "2023-09-10T20:23:22.099728Z",
     "iopub.status.idle": "2023-09-10T20:23:22.462403Z",
     "shell.execute_reply": "2023-09-10T20:23:22.460768Z"
    },
    "papermill": {
     "duration": 0.373955,
     "end_time": "2023-09-10T20:23:22.465231",
     "exception": false,
     "start_time": "2023-09-10T20:23:22.091276",
     "status": "completed"
    },
    "tags": []
   },
   "outputs": [
    {
     "name": "stdout",
     "output_type": "stream",
     "text": [
      "Setup complete! You're ready to start question 0.\n"
     ]
    }
   ],
   "source": [
    "from learntools.core import binder; binder.bind(globals())\n",
    "from learntools.python.ex1 import *\n",
    "print(\"Setup complete! You're ready to start question 0.\")"
   ]
  },
  {
   "cell_type": "markdown",
   "id": "063fa7e3",
   "metadata": {
    "papermill": {
     "duration": 0.007374,
     "end_time": "2023-09-10T20:23:22.480404",
     "exception": false,
     "start_time": "2023-09-10T20:23:22.473030",
     "status": "completed"
    },
    "tags": []
   },
   "source": [
    "# 0.\n",
    "\n",
    "*This is a silly question intended as an introduction to the format we use for hands-on exercises throughout all Kaggle courses.*\n",
    "\n",
    "**What is your favorite color? **\n",
    "\n",
    "To complete this question, create a variable called `color` in the cell below with an appropriate value. The function call `q0.check()` (which we've already provided in the cell below) will check your answer."
   ]
  },
  {
   "cell_type": "code",
   "execution_count": 3,
   "id": "32ae787d",
   "metadata": {
    "execution": {
     "iopub.execute_input": "2023-09-10T20:23:22.497146Z",
     "iopub.status.busy": "2023-09-10T20:23:22.496707Z",
     "iopub.status.idle": "2023-09-10T20:23:22.506110Z",
     "shell.execute_reply": "2023-09-10T20:23:22.504798Z"
    },
    "papermill": {
     "duration": 0.020872,
     "end_time": "2023-09-10T20:23:22.508638",
     "exception": false,
     "start_time": "2023-09-10T20:23:22.487766",
     "status": "completed"
    },
    "tags": []
   },
   "outputs": [
    {
     "data": {
      "application/javascript": [
       "parent.postMessage({\"jupyterEvent\": \"custom.exercise_interaction\", \"data\": {\"outcomeType\": 1, \"valueTowardsCompletion\": 0.25, \"interactionType\": 1, \"questionType\": 2, \"questionId\": \"0_ExerciseFormatTutorial\", \"learnToolsVersion\": \"0.3.4\", \"failureMessage\": \"\", \"exceptionClass\": \"\", \"trace\": \"\"}}, \"*\")"
      ],
      "text/plain": [
       "<IPython.core.display.Javascript object>"
      ]
     },
     "metadata": {},
     "output_type": "display_data"
    },
    {
     "data": {
      "text/markdown": [
       "<span style=\"color:#33cc33\">Correct:</span> What?! You got it right without needing a hint or anything? Drats. Well hey, you should still continue to the next step to get some practice asking for a hint and checking solutions. (Even though you obviously don't need any help here.)"
      ],
      "text/plain": [
       "Correct: What?! You got it right without needing a hint or anything? Drats. Well hey, you should still continue to the next step to get some practice asking for a hint and checking solutions. (Even though you obviously don't need any help here.)"
      ]
     },
     "metadata": {},
     "output_type": "display_data"
    }
   ],
   "source": [
    "# create a variable called color with an appropriate value on the line below\n",
    "# (Remember, strings in Python must be enclosed in 'single' or \"double\" quotes)\n",
    "____\n",
    "color = \"blue\"\n",
    "# Check your answer\n",
    "q0.check()"
   ]
  },
  {
   "cell_type": "markdown",
   "id": "f1e387dc",
   "metadata": {
    "papermill": {
     "duration": 0.008079,
     "end_time": "2023-09-10T20:23:22.524709",
     "exception": false,
     "start_time": "2023-09-10T20:23:22.516630",
     "status": "completed"
    },
    "tags": []
   },
   "source": [
    "Didn't get the right answer? How do you not even know your own favorite color?!\n",
    "\n",
    "Delete the `#` in the line below to make one of the lines run. You can choose between getting a hint or the full answer by choosing which line to remove the `#` from. \n",
    "\n",
    "Removing the `#` is called uncommenting, because it changes that line from a \"comment\" which Python doesn't run to code, which Python does run."
   ]
  },
  {
   "cell_type": "code",
   "execution_count": 4,
   "id": "3bf404d8",
   "metadata": {
    "execution": {
     "iopub.execute_input": "2023-09-10T20:23:22.541401Z",
     "iopub.status.busy": "2023-09-10T20:23:22.540834Z",
     "iopub.status.idle": "2023-09-10T20:23:22.545247Z",
     "shell.execute_reply": "2023-09-10T20:23:22.544067Z"
    },
    "papermill": {
     "duration": 0.015631,
     "end_time": "2023-09-10T20:23:22.547722",
     "exception": false,
     "start_time": "2023-09-10T20:23:22.532091",
     "status": "completed"
    },
    "tags": []
   },
   "outputs": [],
   "source": [
    "#q0.hint()\n",
    "#q0.solution()"
   ]
  },
  {
   "cell_type": "markdown",
   "id": "45847852",
   "metadata": {
    "papermill": {
     "duration": 0.007927,
     "end_time": "2023-09-10T20:23:22.569403",
     "exception": false,
     "start_time": "2023-09-10T20:23:22.561476",
     "status": "completed"
    },
    "tags": []
   },
   "source": [
    "The upcoming questions work the same way. The only thing that will change are the question numbers. For the next question, you'll call `q1.check()`, `q1.hint()`, `q1.solution()`, for question 2, you'll call `q2.check()`, and so on."
   ]
  },
  {
   "cell_type": "markdown",
   "id": "0f6c4925",
   "metadata": {
    "papermill": {
     "duration": 0.007267,
     "end_time": "2023-09-10T20:23:22.584337",
     "exception": false,
     "start_time": "2023-09-10T20:23:22.577070",
     "status": "completed"
    },
    "tags": []
   },
   "source": [
    "<hr/>\n",
    "\n",
    "# 1.\n",
    "\n",
    "Complete the code below. In case it's helpful, here is the table of available arithmetic operations:\n",
    "\n",
    "\n",
    "\n",
    "| Operator     | Name           | Description                                            |\n",
    "|--------------|----------------|--------------------------------------------------------|\n",
    "| ``a + b``    | Addition       | Sum of ``a`` and ``b``                                 |\n",
    "| ``a - b``    | Subtraction    | Difference of ``a`` and ``b``                          |\n",
    "| ``a * b``    | Multiplication | Product of ``a`` and ``b``                             |\n",
    "| ``a / b``    | True division  | Quotient of ``a`` and ``b``                            |\n",
    "| ``a // b``   | Floor division | Quotient of ``a`` and ``b``, removing fractional parts |\n",
    "| ``a % b``    | Modulus        | Integer remainder after division of ``a`` by ``b``     |\n",
    "| ``a ** b``   | Exponentiation | ``a`` raised to the power of ``b``                     |\n",
    "| ``-a``       | Negation       | The negative of ``a``                                  |\n",
    "\n",
    "<span style=\"display:none\"></span>\n"
   ]
  },
  {
   "cell_type": "code",
   "execution_count": 5,
   "id": "2b7e2c7d",
   "metadata": {
    "execution": {
     "iopub.execute_input": "2023-09-10T20:23:22.601228Z",
     "iopub.status.busy": "2023-09-10T20:23:22.600559Z",
     "iopub.status.idle": "2023-09-10T20:23:22.609498Z",
     "shell.execute_reply": "2023-09-10T20:23:22.608484Z"
    },
    "papermill": {
     "duration": 0.019634,
     "end_time": "2023-09-10T20:23:22.611270",
     "exception": false,
     "start_time": "2023-09-10T20:23:22.591636",
     "status": "completed"
    },
    "tags": []
   },
   "outputs": [
    {
     "data": {
      "application/javascript": [
       "parent.postMessage({\"jupyterEvent\": \"custom.exercise_interaction\", \"data\": {\"outcomeType\": 1, \"valueTowardsCompletion\": 0.25, \"interactionType\": 1, \"questionType\": 1, \"questionId\": \"1_CircleArea\", \"learnToolsVersion\": \"0.3.4\", \"failureMessage\": \"\", \"exceptionClass\": \"\", \"trace\": \"\"}}, \"*\")"
      ],
      "text/plain": [
       "<IPython.core.display.Javascript object>"
      ]
     },
     "metadata": {},
     "output_type": "display_data"
    },
    {
     "data": {
      "text/markdown": [
       "<span style=\"color:#33cc33\">Correct</span>"
      ],
      "text/plain": [
       "Correct"
      ]
     },
     "metadata": {},
     "output_type": "display_data"
    }
   ],
   "source": [
    "pi = 3.14159 # approximate\n",
    "diameter = 3\n",
    "\n",
    "# Create a variable called 'radius' equal to half the diameter\n",
    "radius = diameter / 2\n",
    "____\n",
    "\n",
    "# Create a variable called 'area', using the formula for the area of a circle: pi times the radius squared\n",
    "____\n",
    "area = (pi * (radius ** 2))\n",
    "\n",
    "# Check your answer\n",
    "q1.check()"
   ]
  },
  {
   "cell_type": "code",
   "execution_count": 6,
   "id": "dca7e47e",
   "metadata": {
    "execution": {
     "iopub.execute_input": "2023-09-10T20:23:22.628240Z",
     "iopub.status.busy": "2023-09-10T20:23:22.627910Z",
     "iopub.status.idle": "2023-09-10T20:23:22.632603Z",
     "shell.execute_reply": "2023-09-10T20:23:22.631228Z"
    },
    "papermill": {
     "duration": 0.015734,
     "end_time": "2023-09-10T20:23:22.634890",
     "exception": false,
     "start_time": "2023-09-10T20:23:22.619156",
     "status": "completed"
    },
    "tags": []
   },
   "outputs": [],
   "source": [
    "# Uncomment and run the lines below if you need help.\n",
    "#q1.hint()\n",
    "#q1.solution()"
   ]
  },
  {
   "cell_type": "markdown",
   "id": "80e55851",
   "metadata": {
    "papermill": {
     "duration": 0.008458,
     "end_time": "2023-09-10T20:23:22.651272",
     "exception": false,
     "start_time": "2023-09-10T20:23:22.642814",
     "status": "completed"
    },
    "tags": []
   },
   "source": [
    "<hr/>\n",
    "\n",
    "# 2.\n",
    "\n",
    "Add code to the following cell to swap variables `a` and `b` (so that `a` refers to the object previously referred to by `b` and vice versa)."
   ]
  },
  {
   "cell_type": "code",
   "execution_count": 7,
   "id": "bdf92d47",
   "metadata": {
    "execution": {
     "iopub.execute_input": "2023-09-10T20:23:22.669595Z",
     "iopub.status.busy": "2023-09-10T20:23:22.669233Z",
     "iopub.status.idle": "2023-09-10T20:23:22.677686Z",
     "shell.execute_reply": "2023-09-10T20:23:22.676816Z"
    },
    "papermill": {
     "duration": 0.019898,
     "end_time": "2023-09-10T20:23:22.679400",
     "exception": false,
     "start_time": "2023-09-10T20:23:22.659502",
     "status": "completed"
    },
    "tags": []
   },
   "outputs": [
    {
     "name": "stdout",
     "output_type": "stream",
     "text": [
      "[3, 2, 1]\n",
      "[1, 2, 3]\n"
     ]
    },
    {
     "data": {
      "application/javascript": [
       "parent.postMessage({\"jupyterEvent\": \"custom.exercise_interaction\", \"data\": {\"outcomeType\": 1, \"valueTowardsCompletion\": 0.25, \"interactionType\": 1, \"questionType\": 2, \"questionId\": \"2_VariableSwap\", \"learnToolsVersion\": \"0.3.4\", \"failureMessage\": \"\", \"exceptionClass\": \"\", \"trace\": \"\"}}, \"*\")"
      ],
      "text/plain": [
       "<IPython.core.display.Javascript object>"
      ]
     },
     "metadata": {},
     "output_type": "display_data"
    },
    {
     "data": {
      "text/markdown": [
       "<span style=\"color:#33cc33\">Correct:</span> \n",
       "\n",
       "The most straightforward solution is to use a third variable to temporarily store one of the old values. e.g.:\n",
       "\n",
       "    tmp = a\n",
       "    a = b\n",
       "    b = tmp\n",
       "\n",
       "If you've read lots of Python code, you might have seen the following trick to swap two variables in one line:\n",
       "\n",
       "    a, b = b, a\n",
       "\n",
       "We'll demystify this bit of Python magic later when we talk about *tuples*."
      ],
      "text/plain": [
       "Correct: \n",
       "\n",
       "The most straightforward solution is to use a third variable to temporarily store one of the old values. e.g.:\n",
       "\n",
       "    tmp = a\n",
       "    a = b\n",
       "    b = tmp\n",
       "\n",
       "If you've read lots of Python code, you might have seen the following trick to swap two variables in one line:\n",
       "\n",
       "    a, b = b, a\n",
       "\n",
       "We'll demystify this bit of Python magic later when we talk about *tuples*."
      ]
     },
     "metadata": {},
     "output_type": "display_data"
    }
   ],
   "source": [
    "########### Setup code - don't touch this part ######################\n",
    "# If you're curious, these are examples of lists. We'll talk about \n",
    "# them in depth a few lessons from now. For now, just know that they're\n",
    "# yet another type of Python object, like int or float.\n",
    "a = [1, 2, 3]\n",
    "b = [3, 2, 1]\n",
    "q2.store_original_ids()\n",
    "######################################################################\n",
    "\n",
    "# Your code goes here. Swap the values to which a and b refer.\n",
    "# If you get stuck, you can always uncomment one or both of the lines in\n",
    "# the next cell for a hint, or to peek at the solution.\n",
    "c = a\n",
    "a = b\n",
    "b = c\n",
    "print(a)\n",
    "print(b)\n",
    "######################################################################\n",
    "\n",
    "# Check your answer\n",
    "q2.check()"
   ]
  },
  {
   "cell_type": "code",
   "execution_count": 8,
   "id": "b509a964",
   "metadata": {
    "execution": {
     "iopub.execute_input": "2023-09-10T20:23:22.699838Z",
     "iopub.status.busy": "2023-09-10T20:23:22.699319Z",
     "iopub.status.idle": "2023-09-10T20:23:22.703646Z",
     "shell.execute_reply": "2023-09-10T20:23:22.702799Z"
    },
    "papermill": {
     "duration": 0.01733,
     "end_time": "2023-09-10T20:23:22.705505",
     "exception": false,
     "start_time": "2023-09-10T20:23:22.688175",
     "status": "completed"
    },
    "tags": []
   },
   "outputs": [],
   "source": [
    "#q2.hint()"
   ]
  },
  {
   "cell_type": "code",
   "execution_count": 9,
   "id": "8535ccea",
   "metadata": {
    "execution": {
     "iopub.execute_input": "2023-09-10T20:23:22.723497Z",
     "iopub.status.busy": "2023-09-10T20:23:22.722875Z",
     "iopub.status.idle": "2023-09-10T20:23:22.726258Z",
     "shell.execute_reply": "2023-09-10T20:23:22.725614Z"
    },
    "papermill": {
     "duration": 0.015022,
     "end_time": "2023-09-10T20:23:22.728558",
     "exception": false,
     "start_time": "2023-09-10T20:23:22.713536",
     "status": "completed"
    },
    "tags": []
   },
   "outputs": [],
   "source": [
    "#q2.solution()"
   ]
  },
  {
   "cell_type": "markdown",
   "id": "7f1983c4",
   "metadata": {
    "papermill": {
     "duration": 0.007607,
     "end_time": "2023-09-10T20:23:22.744296",
     "exception": false,
     "start_time": "2023-09-10T20:23:22.736689",
     "status": "completed"
    },
    "tags": []
   },
   "source": [
    "<hr/>\n",
    "\n",
    "# 3a.\n",
    "\n",
    "Add parentheses to the following expression so that it evaluates to 1."
   ]
  },
  {
   "cell_type": "code",
   "execution_count": 10,
   "id": "ed324e06",
   "metadata": {
    "execution": {
     "iopub.execute_input": "2023-09-10T20:23:22.762579Z",
     "iopub.status.busy": "2023-09-10T20:23:22.761929Z",
     "iopub.status.idle": "2023-09-10T20:23:22.768003Z",
     "shell.execute_reply": "2023-09-10T20:23:22.766695Z"
    },
    "papermill": {
     "duration": 0.017551,
     "end_time": "2023-09-10T20:23:22.769904",
     "exception": false,
     "start_time": "2023-09-10T20:23:22.752353",
     "status": "completed"
    },
    "tags": []
   },
   "outputs": [
    {
     "data": {
      "text/plain": [
       "1"
      ]
     },
     "execution_count": 10,
     "metadata": {},
     "output_type": "execute_result"
    }
   ],
   "source": [
    "(5 - 3) // 2"
   ]
  },
  {
   "cell_type": "code",
   "execution_count": 11,
   "id": "4f0b8d71",
   "metadata": {
    "execution": {
     "iopub.execute_input": "2023-09-10T20:23:22.789750Z",
     "iopub.status.busy": "2023-09-10T20:23:22.788813Z",
     "iopub.status.idle": "2023-09-10T20:23:22.793262Z",
     "shell.execute_reply": "2023-09-10T20:23:22.792445Z"
    },
    "papermill": {
     "duration": 0.01691,
     "end_time": "2023-09-10T20:23:22.795080",
     "exception": false,
     "start_time": "2023-09-10T20:23:22.778170",
     "status": "completed"
    },
    "tags": []
   },
   "outputs": [],
   "source": [
    "#q3.a.hint()"
   ]
  },
  {
   "cell_type": "code",
   "execution_count": 12,
   "id": "dbb340bb",
   "metadata": {
    "execution": {
     "iopub.execute_input": "2023-09-10T20:23:22.813668Z",
     "iopub.status.busy": "2023-09-10T20:23:22.813286Z",
     "iopub.status.idle": "2023-09-10T20:23:22.817634Z",
     "shell.execute_reply": "2023-09-10T20:23:22.816214Z"
    },
    "papermill": {
     "duration": 0.016523,
     "end_time": "2023-09-10T20:23:22.820066",
     "exception": false,
     "start_time": "2023-09-10T20:23:22.803543",
     "status": "completed"
    },
    "tags": []
   },
   "outputs": [],
   "source": [
    "# Check your answer (Run this code cell to receive credit!)\n",
    "#q3.a.solution()"
   ]
  },
  {
   "cell_type": "markdown",
   "id": "828d0d39",
   "metadata": {
    "papermill": {
     "duration": 0.007852,
     "end_time": "2023-09-10T20:23:22.836398",
     "exception": false,
     "start_time": "2023-09-10T20:23:22.828546",
     "status": "completed"
    },
    "tags": []
   },
   "source": [
    "# 3b.  <span title=\"A bit spicy\" style=\"color: darkgreen \">🌶️</span>\n",
    "\n",
    "<small>Questions, like this one, marked a spicy pepper are a bit harder.</small>\n",
    "\n",
    "Add parentheses to the following expression so that it evaluates to 0."
   ]
  },
  {
   "cell_type": "code",
   "execution_count": 13,
   "id": "fb522f8a",
   "metadata": {
    "execution": {
     "iopub.execute_input": "2023-09-10T20:23:22.855087Z",
     "iopub.status.busy": "2023-09-10T20:23:22.854219Z",
     "iopub.status.idle": "2023-09-10T20:23:22.860330Z",
     "shell.execute_reply": "2023-09-10T20:23:22.859436Z"
    },
    "papermill": {
     "duration": 0.017537,
     "end_time": "2023-09-10T20:23:22.862120",
     "exception": false,
     "start_time": "2023-09-10T20:23:22.844583",
     "status": "completed"
    },
    "tags": []
   },
   "outputs": [
    {
     "data": {
      "text/plain": [
       "0"
      ]
     },
     "execution_count": 13,
     "metadata": {},
     "output_type": "execute_result"
    }
   ],
   "source": [
    "(8 - 3) * (2 - (1 + 1))"
   ]
  },
  {
   "cell_type": "code",
   "execution_count": 14,
   "id": "7b9628a9",
   "metadata": {
    "execution": {
     "iopub.execute_input": "2023-09-10T20:23:22.880684Z",
     "iopub.status.busy": "2023-09-10T20:23:22.880346Z",
     "iopub.status.idle": "2023-09-10T20:23:22.884606Z",
     "shell.execute_reply": "2023-09-10T20:23:22.883376Z"
    },
    "papermill": {
     "duration": 0.01593,
     "end_time": "2023-09-10T20:23:22.886516",
     "exception": false,
     "start_time": "2023-09-10T20:23:22.870586",
     "status": "completed"
    },
    "tags": []
   },
   "outputs": [],
   "source": [
    "#q3.b.hint()"
   ]
  },
  {
   "cell_type": "code",
   "execution_count": 15,
   "id": "a707c9ac",
   "metadata": {
    "execution": {
     "iopub.execute_input": "2023-09-10T20:23:22.905535Z",
     "iopub.status.busy": "2023-09-10T20:23:22.905103Z",
     "iopub.status.idle": "2023-09-10T20:23:22.908845Z",
     "shell.execute_reply": "2023-09-10T20:23:22.908030Z"
    },
    "papermill": {
     "duration": 0.014574,
     "end_time": "2023-09-10T20:23:22.910439",
     "exception": false,
     "start_time": "2023-09-10T20:23:22.895865",
     "status": "completed"
    },
    "tags": []
   },
   "outputs": [],
   "source": [
    "# Check your answer (Run this code cell to receive credit!)\n",
    "#q3.b.solution()"
   ]
  },
  {
   "cell_type": "markdown",
   "id": "fe61bb6b",
   "metadata": {
    "papermill": {
     "duration": 0.007971,
     "end_time": "2023-09-10T20:23:22.926848",
     "exception": false,
     "start_time": "2023-09-10T20:23:22.918877",
     "status": "completed"
    },
    "tags": []
   },
   "source": [
    "<hr/>\n",
    "\n",
    "# 4. \n",
    "Alice, Bob and Carol have agreed to pool their Halloween candy and split it evenly among themselves.\n",
    "For the sake of their friendship, any candies left over will be smashed. For example, if they collectively\n",
    "bring home 91 candies, they'll take 30 each and smash 1.\n",
    "\n",
    "Write an arithmetic expression below to calculate how many candies they must smash for a given haul."
   ]
  },
  {
   "cell_type": "code",
   "execution_count": 16,
   "id": "99a87cbb",
   "metadata": {
    "execution": {
     "iopub.execute_input": "2023-09-10T20:23:22.944850Z",
     "iopub.status.busy": "2023-09-10T20:23:22.943992Z",
     "iopub.status.idle": "2023-09-10T20:23:22.952497Z",
     "shell.execute_reply": "2023-09-10T20:23:22.951605Z"
    },
    "papermill": {
     "duration": 0.0195,
     "end_time": "2023-09-10T20:23:22.954287",
     "exception": false,
     "start_time": "2023-09-10T20:23:22.934787",
     "status": "completed"
    },
    "tags": []
   },
   "outputs": [
    {
     "data": {
      "application/javascript": [
       "parent.postMessage({\"jupyterEvent\": \"custom.exercise_interaction\", \"data\": {\"outcomeType\": 1, \"valueTowardsCompletion\": 0.25, \"interactionType\": 1, \"questionType\": 1, \"questionId\": \"4_CandySplitting\", \"learnToolsVersion\": \"0.3.4\", \"failureMessage\": \"\", \"exceptionClass\": \"\", \"trace\": \"\"}}, \"*\")"
      ],
      "text/plain": [
       "<IPython.core.display.Javascript object>"
      ]
     },
     "metadata": {},
     "output_type": "display_data"
    },
    {
     "data": {
      "text/markdown": [
       "<span style=\"color:#33cc33\">Correct</span>"
      ],
      "text/plain": [
       "Correct"
      ]
     },
     "metadata": {},
     "output_type": "display_data"
    }
   ],
   "source": [
    "# Variables representing the number of candies collected by alice, bob, and carol\n",
    "alice_candies = 121\n",
    "bob_candies = 77\n",
    "carol_candies = 109\n",
    "\n",
    "# Your code goes here! Replace the right-hand side of this assignment with an expression\n",
    "# involving alice_candies, bob_candies, and carol_candies\n",
    "to_smash = (alice_candies + bob_candies + carol_candies) % 3\n",
    "\n",
    "# Check your answer\n",
    "q4.check()"
   ]
  },
  {
   "cell_type": "code",
   "execution_count": 17,
   "id": "6f13cf0f",
   "metadata": {
    "execution": {
     "iopub.execute_input": "2023-09-10T20:23:22.975154Z",
     "iopub.status.busy": "2023-09-10T20:23:22.974834Z",
     "iopub.status.idle": "2023-09-10T20:23:22.979951Z",
     "shell.execute_reply": "2023-09-10T20:23:22.978458Z"
    },
    "papermill": {
     "duration": 0.018588,
     "end_time": "2023-09-10T20:23:22.982457",
     "exception": false,
     "start_time": "2023-09-10T20:23:22.963869",
     "status": "completed"
    },
    "tags": []
   },
   "outputs": [],
   "source": [
    "#q4.hint()\n",
    "#q4.solution()"
   ]
  },
  {
   "cell_type": "markdown",
   "id": "000aea1f",
   "metadata": {
    "papermill": {
     "duration": 0.008681,
     "end_time": "2023-09-10T20:23:23.000542",
     "exception": false,
     "start_time": "2023-09-10T20:23:22.991861",
     "status": "completed"
    },
    "tags": []
   },
   "source": [
    "# Keep Going\n",
    "\n",
    "Next up, you'll **[learn to write new functions and understand functions others write](https://www.kaggle.com/colinmorris/functions-and-getting-help)**. This will make you at least 10 times more productive as a Python programmer. "
   ]
  },
  {
   "cell_type": "markdown",
   "id": "b063bd6b",
   "metadata": {
    "papermill": {
     "duration": 0.008066,
     "end_time": "2023-09-10T20:23:23.016883",
     "exception": false,
     "start_time": "2023-09-10T20:23:23.008817",
     "status": "completed"
    },
    "tags": []
   },
   "source": [
    "---\n",
    "\n",
    "\n",
    "\n",
    "\n",
    "*Have questions or comments? Visit the [course discussion forum](https://www.kaggle.com/learn/python/discussion) to chat with other learners.*"
   ]
  }
 ],
 "kernelspec": {
  "display_name": "Python 3",
  "language": "python",
  "name": "python3"
 },
 "language_info": {
  "codemirror_mode": {
   "name": "ipython",
   "version": 3
  },
  "file_extension": ".py",
  "mimetype": "text/x-python",
  "name": "python",
  "nbconvert_exporter": "python",
  "pygments_lexer": "ipython3",
  "version": "3.6.4"
 },
 "metadata": {
  "kernelspec": {
   "display_name": "Python 3",
   "language": "python",
   "name": "python3"
  },
  "language_info": {
   "codemirror_mode": {
    "name": "ipython",
    "version": 3
   },
   "file_extension": ".py",
   "mimetype": "text/x-python",
   "name": "python",
   "nbconvert_exporter": "python",
   "pygments_lexer": "ipython3",
   "version": "3.10.12"
  },
  "learntools_metadata": {
   "lesson_index": 0,
   "type": "exercise"
  },
  "papermill": {
   "default_parameters": {},
   "duration": 7.205156,
   "end_time": "2023-09-10T20:23:26.284694",
   "environment_variables": {},
   "exception": null,
   "input_path": "__notebook__.ipynb",
   "output_path": "__notebook__.ipynb",
   "parameters": {},
   "start_time": "2023-09-10T20:23:19.079538",
   "version": "2.4.0"
  }
 },
 "nbformat": 4,
 "nbformat_minor": 5
}
